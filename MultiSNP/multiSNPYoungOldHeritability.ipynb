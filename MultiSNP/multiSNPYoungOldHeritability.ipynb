{
 "cells": [
  {
   "cell_type": "markdown",
   "metadata": {},
   "source": [
    "# Analysis of multi-SNP model for young and old cohorts"
   ]
  },
  {
   "cell_type": "code",
   "execution_count": 15,
   "metadata": {
    "scrolled": true
   },
   "outputs": [],
   "source": [
    "import numpy as np\n",
    "import pandas as pd\n",
    "import seaborn as sns\n",
    "from statannot import add_stat_annotation\n",
    "from matplotlib import pyplot as plt\n",
    "from glob import glob\n",
    "import os.path\n",
    "from os.path import exists\n",
    "from os import path\n",
    "import mygene\n",
    "import scipy\n",
    "import pydove as dv\n",
    "import sqlite3\n",
    "plt.rcParams[\"figure.figsize\"] = (5,4)\n",
    "import matplotlib\n",
    "matplotlib.rcParams[\"figure.dpi\"] = 200\n",
    "data_dir = \"/clusterfs/nilah/rkchung/data/expred/\"\n",
    "gtex_dir = \"/clusterfs/genomicdata/GTEx/eQTL_files/\""
   ]
  },
  {
   "cell_type": "code",
   "execution_count": null,
   "metadata": {},
   "outputs": [],
   "source": [
    "# Generate mapping of ensembl id -> gene name\n",
    "tissues = glob(gtex_dir+\"GTEx_Analysis_v8_eQTL_expression_matrices/*.bed.gz\")\n",
    "\n",
    "genes = []\n",
    "for i in range(len(tissues)):\n",
    "    genes += list(pd.read_csv(tissues[i], usecols = ['gene_id'], sep=\"\\t\")[\"gene_id\"]) # list of gtex genes - ensembl id format\n",
    "genes = list(set(genes))\n",
    "print(\"Found %s genes\" % len(genes))\n",
    "mg = mygene.MyGeneInfo()\n",
    "ens = [g.split(\".\")[0] for g in genes]\n",
    "ginfo = mg.querymany(ens, scopes='ensembl.gene', returnall=True)[\"out\"]\n",
    "print(len(ginfo))\n",
    "counter = 0\n",
    "#comm_genes = []\n",
    "mapping = {} # ensg id to common name\n",
    "for j in range(len(ginfo)): \n",
    "    if \"symbol\" in ginfo[j]:\n",
    "        mapping[ginfo[j][\"query\"]] = ginfo[j][\"symbol\"]\n",
    "print(\"%s Unmapped genes\" % (len(genes)-len(mapping)))"
   ]
  },
  {
   "cell_type": "code",
   "execution_count": null,
   "metadata": {},
   "outputs": [],
   "source": [
    "# Helper function for plotting old and young heritability box/violin plots\n",
    "def plot_violin(old_r2, young_r2, ax=None, show=True, zoom=False, title=None):\n",
    "    y = list(old_r2)+list(young_r2)\n",
    "    age = [\"Old\"]*len(old_r2) + [\"Young\"]*len(young_r2)\n",
    "    devdf = pd.DataFrame(np.array([age, y]).T, columns=[\"Age\", \"R^2\"])\n",
    "    devdf[\"R^2\"] = devdf[\"R^2\"].astype(float)\n",
    "    labels = [\"Old\", \"Young\"]\n",
    "    ax = sns.boxplot(x=\"Age\", y=\"R^2\", data=devdf, order=labels, ax=ax)\n",
    "    test_results = add_stat_annotation(ax, data=devdf, x=\"Age\", y=\"R^2\", \n",
    "                                       order=labels,\n",
    "                                       box_pairs=[labels],\n",
    "                                       test='Mann-Whitney', text_format='full',\n",
    "                                       loc='inside', verbose=2) \n",
    "    if zoom:\n",
    "        Q1 = np.percentile(sorted(young_r2), 25, interpolation = 'midpoint')\n",
    "        Q3 = np.percentile(sorted(young_r2), 75, interpolation = 'midpoint')\n",
    "        #stdl, stdh = np.mean(young_r2)-np.std(young_r2)/2, np.mean(young_r2)+np.std(young_r2)/2\n",
    "        ax.set_ylim([Q1, Q3])\n",
    "    if title!=None:\n",
    "        ax.set_title(title)\n",
    "    if show:\n",
    "        plt.show()\n",
    "        plt.clf()"
   ]
  },
  {
   "cell_type": "code",
   "execution_count": null,
   "metadata": {},
   "outputs": [],
   "source": [
    "# For each tissue, plot box-plot distribution of old and young heritability\n",
    "# Annotate if significant difference \n",
    "tissue_diff = {}\n",
    "j = 0\n",
    "tissues = glob(gtex_dir+\"GTEx_Analysis_v8_eQTL_expression_matrices/*.bed.gz\")\n",
    "plt.rcParams[\"figure.figsize\"] = (25,25)\n",
    "cols = rows = 5\n",
    "size = rows*cols\n",
    "for i in range(len(tissues)):\n",
    "    if int(subprocess.check_output(\"zcat %s | awk '{print NF; exit}'\" % tissues[i], shell=True)) > 200: # checks if num of individuals is enough\n",
    "        print(\"Starting Tissue %s\" % short)\n",
    "        if j%size == 0:\n",
    "            plt.show()\n",
    "            plt.clf()\n",
    "            fig, ax = plt.subplots(rows, cols, sharex='col', sharey='row')\n",
    "        a = int(j/cols)%cols\n",
    "        b = j%cols\n",
    "        short = tissues[i].split(\"expression_matrices/\")[1].split(\".v8.normalized_expression\")[0]\n",
    "        print(\"Starting Tissue %s\" % short)\n",
    "        old_r2 = np.load(data_dir+\"output/r2_%s_old.npy\" % short)\n",
    "        young_r2 = np.load(data_dir+\"output/r2_%s_young.npy\" % short)\n",
    "\n",
    "        before = len(old_r2)\n",
    "        #old_r2, young_r2, names = zip(*[[o,y,n] for o,y,n in zip(old_r2, young_r2, genes) if (o>0 and y>0)])\n",
    "        old_r2, young_r2 = zip(*[[o,y] for o,y in zip(old_r2, young_r2) if (o>0 and y>0)])\n",
    "        posfilter = np.array([(o>0 and y>0) for o,y in zip(old_r2, young_r2)])\n",
    "        old_r2 = list(np.array(old_r2)[posfilter])\n",
    "        young_r2 = list(np.array(young_r2)[posfilter])\n",
    "        #print(\"Heritability of older indivs: %s+/-%s\" % (np.mean(old_r2), np.std(old_r2)))\n",
    "        #print(\"Heritability of younger indivs: %s+/-%s\" % (np.mean(young_r2), np.std(young_r2)))\n",
    "        title = \"%s; $O_{R^2}$:%.3f $Y_{R^2}$:%.3f\" % (short[:13], np.mean(old_r2), np.mean(young_r2))\n",
    "\n",
    "        plot_violin(old_r2, young_r2, ax=ax[a,b], show=False, title=title)\n",
    "        pval = scipy.stats.ttest_rel(old_r2, young_r2)[1]\n",
    "        print(pval)\n",
    "        tissue_diff[short] = [np.mean(np.array(young_r2)-np.array(old_r2)), pval]\n",
    "        j+=1\n",
    "plt.show()\n",
    "plt.clf()"
   ]
  },
  {
   "cell_type": "code",
   "execution_count": null,
   "metadata": {},
   "outputs": [],
   "source": [
    "# Plot tissue-specific average difference in heritability between young and old cohorts\n",
    "# Sup figure\n",
    "plt.rcParams[\"figure.figsize\"] = (5,5)\n",
    "tissue_diff_list = sorted([[a[0],a[1][0],a[1][1]]  for a in list(tissue_diff.items())], key=lambda x: x[1], reverse=True)\n",
    "print(tissue_diff_list)\n",
    "df = pd.DataFrame(tissue_diff_list, columns=[\"Tissue\", \"Heritability Young - Old\", \"P-value\"])\n",
    "df[\"Heritability Young - Old\"] = df[\"Heritability Young - Old\"].astype(float)\n",
    "ax=sns.barplot(data=df, x=\"Heritability Young - Old\", y=\"Tissue\")\n",
    "for i in range(len(tissue_diff_list)):\n",
    "    if float(tissue_diff_list[i][2])<5e-2:\n",
    "        ax.annotate('**',xy=(min(np.array(tissue_diff_list)[:,1].astype(float)), i), verticalalignment=\"center\")\n",
    "plt.show()\n",
    "plt.clf()"
   ]
  },
  {
   "cell_type": "code",
   "execution_count": null,
   "metadata": {},
   "outputs": [],
   "source": [
    "print(\"Heritability of older indivs: %s+/-%s\" % (np.mean(old_r2), np.std(old_r2)))\n",
    "print(\"Heritability of younger indivs: %s+/-%s\" % (np.mean(young_r2), np.std(young_r2)))"
   ]
  }
 ],
 "metadata": {
  "kernelspec": {
   "display_name": "torch36",
   "language": "python",
   "name": "torch36"
  },
  "language_info": {
   "codemirror_mode": {
    "name": "ipython",
    "version": 3
   },
   "file_extension": ".py",
   "mimetype": "text/x-python",
   "name": "python",
   "nbconvert_exporter": "python",
   "pygments_lexer": "ipython3",
   "version": "3.6.13"
  }
 },
 "nbformat": 4,
 "nbformat_minor": 2
}
